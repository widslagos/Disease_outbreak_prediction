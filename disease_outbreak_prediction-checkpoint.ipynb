{
 "cells": [
  {
   "cell_type": "code",
   "execution_count": 4,
   "metadata": {},
   "outputs": [
    {
     "name": "stdout",
     "output_type": "stream",
     "text": [
      "Good Argument: hello\n"
     ]
    }
   ],
   "source": [
    "def DisplayMulti(*VarArgs):\n",
    "    for Arg in VarArgs:\n",
    "        if Arg.upper() == 'CONT':\n",
    "            continue\n",
    "            print('Continue Argument: ' + Arg)\n",
    "        elif Arg.upper() == 'BREAK':\n",
    "            break\n",
    "            print('Break Argument: ' + Arg)\n",
    "        print('Good Argument: ' + Arg)\n",
    "DisplayMulti(\"hello\", 'CONT')        \n",
    "        "
   ]
  },
  {
   "cell_type": "code",
   "execution_count": 7,
   "metadata": {},
   "outputs": [
    {
     "ename": "ImportError",
     "evalue": "No module named 'set'",
     "output_type": "error",
     "traceback": [
      "\u001b[1;31m---------------------------------------------------------------------------\u001b[0m",
      "\u001b[1;31mImportError\u001b[0m                               Traceback (most recent call last)",
      "\u001b[1;32m<ipython-input-7-1d21dbb6507b>\u001b[0m in \u001b[0;36m<module>\u001b[1;34m()\u001b[0m\n\u001b[1;32m----> 1\u001b[1;33m \u001b[1;32mfrom\u001b[0m \u001b[0mset\u001b[0m \u001b[1;32mimport\u001b[0m \u001b[0mSet\u001b[0m\u001b[1;33m\u001b[0m\u001b[0m\n\u001b[0m\u001b[0;32m      2\u001b[0m \u001b[0mSetA\u001b[0m \u001b[1;33m=\u001b[0m \u001b[0mSet\u001b[0m\u001b[1;33m(\u001b[0m\u001b[1;33m[\u001b[0m\u001b[1;34m'Red'\u001b[0m\u001b[1;33m,\u001b[0m \u001b[1;34m'Blue'\u001b[0m\u001b[1;33m,\u001b[0m \u001b[1;34m'Green'\u001b[0m\u001b[1;33m,\u001b[0m \u001b[1;34m'Black'\u001b[0m\u001b[1;33m]\u001b[0m\u001b[1;33m)\u001b[0m\u001b[1;33m\u001b[0m\u001b[0m\n\u001b[0;32m      3\u001b[0m \u001b[0mSetB\u001b[0m \u001b[1;33m=\u001b[0m \u001b[0mSet\u001b[0m\u001b[1;33m(\u001b[0m\u001b[1;33m[\u001b[0m\u001b[1;34m'Black'\u001b[0m\u001b[1;33m,\u001b[0m \u001b[1;34m'Green'\u001b[0m\u001b[1;33m,\u001b[0m \u001b[1;34m'Yellow'\u001b[0m\u001b[1;33m,\u001b[0m \u001b[1;34m'Orange'\u001b[0m\u001b[1;33m]\u001b[0m\u001b[1;33m)\u001b[0m\u001b[1;33m\u001b[0m\u001b[0m\n\u001b[0;32m      4\u001b[0m \u001b[0mSetX\u001b[0m \u001b[1;33m=\u001b[0m \u001b[0mSetA\u001b[0m\u001b[1;33m.\u001b[0m\u001b[0munion\u001b[0m\u001b[1;33m(\u001b[0m\u001b[0mSetB\u001b[0m\u001b[1;33m)\u001b[0m\u001b[1;33m\u001b[0m\u001b[0m\n\u001b[0;32m      5\u001b[0m \u001b[0mSetY\u001b[0m \u001b[1;33m=\u001b[0m \u001b[0mSetA\u001b[0m\u001b[1;33m.\u001b[0m\u001b[0mintersection\u001b[0m\u001b[1;33m(\u001b[0m\u001b[0mSetB\u001b[0m\u001b[1;33m)\u001b[0m\u001b[1;33m\u001b[0m\u001b[0m\n",
      "\u001b[1;31mImportError\u001b[0m: No module named 'set'"
     ]
    }
   ],
   "source": [
    "from set import Set\n",
    "SetA = Set(['Red', 'Blue', 'Green', 'Black'])\n",
    "SetB = Set(['Black', 'Green', 'Yellow', 'Orange'])\n",
    "SetX = SetA.union(SetB)\n",
    "SetY = SetA.intersection(SetB)\n",
    "SetZ = SetA.difference(SetB)"
   ]
  },
  {
   "cell_type": "code",
   "execution_count": null,
   "metadata": {},
   "outputs": [],
   "source": []
  }
 ],
 "metadata": {
  "kernelspec": {
   "display_name": "Python 3",
   "language": "python",
   "name": "python3"
  },
  "language_info": {
   "codemirror_mode": {
    "name": "ipython",
    "version": 3
   },
   "file_extension": ".py",
   "mimetype": "text/x-python",
   "name": "python",
   "nbconvert_exporter": "python",
   "pygments_lexer": "ipython3",
   "version": "3.5.3"
  }
 },
 "nbformat": 4,
 "nbformat_minor": 2
}
